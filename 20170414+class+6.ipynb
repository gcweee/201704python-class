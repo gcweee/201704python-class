{
 "cells": [
  {
   "cell_type": "code",
   "execution_count": 3,
   "metadata": {
    "collapsed": false
   },
   "outputs": [],
   "source": [
    "#PhontcmJS 用以支持javascript"
   ]
  },
  {
   "cell_type": "markdown",
   "metadata": {},
   "source": [
    "* 面向对象：OOP"
   ]
  },
  {
   "cell_type": "code",
   "execution_count": 4,
   "metadata": {
    "collapsed": true
   },
   "outputs": [],
   "source": [
    "#class +类名（大写字母开头）\n",
    "#一般定义类的方法：class Student(object):\n",
    "#有对应的ID存在于内存中\n",
    "#__init__方法\n",
    "class Student(object):\n",
    "    def __init__(self,name,score):#第一个永远是self\n",
    "        self.name=name\n",
    "        self.score=score"
   ]
  },
  {
   "cell_type": "code",
   "execution_count": 5,
   "metadata": {
    "collapsed": true
   },
   "outputs": [],
   "source": [
    "#使用__（双下划线）\n",
    "#用字典形式进行处理，"
   ]
  },
  {
   "cell_type": "code",
   "execution_count": 6,
   "metadata": {
    "collapsed": false
   },
   "outputs": [
    {
     "data": {
      "text/plain": [
       "81"
      ]
     },
     "execution_count": 6,
     "metadata": {},
     "output_type": "execute_result"
    }
   ],
   "source": [
    "class MyObject(object):\n",
    "    def __init__(self):\n",
    "        self.x = 9\n",
    "    def power(self):\n",
    "        return self.x * self.x\n",
    "obj = MyObject()\n",
    "hasattr(obj, 'x')#会动态增加一个属性\n",
    "setattr(obj, 'y', 19) #set property\n",
    "getattr(obj, 'y')#取出一个新的变量值\n",
    "fn = getattr(obj, 'power') #get method\n",
    "fn()"
   ]
  },
  {
   "cell_type": "code",
   "execution_count": 15,
   "metadata": {
    "collapsed": false
   },
   "outputs": [
    {
     "name": "stdout",
     "output_type": "stream",
     "text": [
      "Bar\n",
      "i am wupeiqi\n"
     ]
    }
   ],
   "source": [
    "#创建类\n",
    "class foo:#class为关键字，必填，foo为类名称\n",
    "    #创建类中的函数\n",
    "    def Bar(self):#self为特殊参数，必填\n",
    "        #do something\n",
    "        print('Bar')\n",
    "    def Hello(self,name):\n",
    "        print('i am %s'%name)\n",
    "#根据类foo创建对象obj\n",
    "obj=foo()\n",
    "obj.Bar()#执行Bar方法\n",
    "obj.Hello('wupeiqi')#执行Hello方法"
   ]
  },
  {
   "cell_type": "markdown",
   "metadata": {},
   "source": [
    "* 面向对象三大特性：封装、继承、多态"
   ]
  },
  {
   "cell_type": "code",
   "execution_count": 25,
   "metadata": {
    "collapsed": false
   },
   "outputs": [],
   "source": [
    "#封装\n",
    "#创建类\n",
    "class Foo:\n",
    "    def __init__(self,name,age):\n",
    "        self.name=name\n",
    "        self.age=age\n",
    "#根据类创建对象\n",
    "#自动执行Foo的__init__方法\n",
    "obj1=Foo('wupeiqi',18)#此时，self=obj1\n",
    "obj2=Foo('alex',73)\n",
    "#实际上就是内容被封装到了对象obj1和obj2中，每个对象中都有name和age 属性，在内存里类似保存下来"
   ]
  },
  {
   "cell_type": "code",
   "execution_count": 17,
   "metadata": {
    "collapsed": true
   },
   "outputs": [],
   "source": [
    "#调用（两种方法）\n",
    "#way1：通过对象直接调用（对象.属性名）\n",
    "#way2:通过self间接调用"
   ]
  },
  {
   "cell_type": "code",
   "execution_count": 33,
   "metadata": {
    "collapsed": false
   },
   "outputs": [
    {
     "name": "stdout",
     "output_type": "stream",
     "text": [
      "wupeiqi\n",
      "18\n"
     ]
    }
   ],
   "source": [
    "#way1\n",
    "class Foo:\n",
    "    def __init__(self,name,age):\n",
    "        self.name=name\n",
    "        self.age=age\n",
    "#根据类创建对象\n",
    "#自动执行Foo的__init__方法\n",
    "obj1=Foo('wupeiqi',18)#此时，self=obj1\n",
    "obj2=Foo('alex',73)\n",
    "#实际上就是内容被封装到了对象obj1和obj2中，每个对象中都有name和age 属性，在内存里类似保存下来\n",
    "print(obj1.name)# 直接调用obj1对象的name属性\n",
    "print(obj1.age)# 直接调用obj1对象的age属性"
   ]
  },
  {
   "cell_type": "code",
   "execution_count": 38,
   "metadata": {
    "collapsed": false
   },
   "outputs": [
    {
     "name": "stdout",
     "output_type": "stream",
     "text": [
      "alex\n",
      "73\n",
      "None\n"
     ]
    }
   ],
   "source": [
    "#way2\n",
    "class Foo:\n",
    "    def __init__(self,name,age):\n",
    "        self.name=name\n",
    "        self.age=age\n",
    "    def detail(self):\n",
    "        print(self.name)\n",
    "        print(self.age)\n",
    "obj2=Foo('alex',73)\n",
    "print(obj2.detail())"
   ]
  },
  {
   "cell_type": "markdown",
   "metadata": {},
   "source": [
    "练习一：在终端输出如下信息\n",
    " \n",
    "小明，10岁，男，上山去砍柴"
   ]
  },
  {
   "cell_type": "code",
   "execution_count": 70,
   "metadata": {
    "collapsed": false
   },
   "outputs": [
    {
     "name": "stdout",
     "output_type": "stream",
     "text": [
      "小明,10岁,男,上山去砍柴\n",
      "None\n"
     ]
    }
   ],
   "source": [
    "class Foo:\n",
    "    def __init__(self,name,age,gender):\n",
    "        self.name=name\n",
    "        self.age=age\n",
    "        self.gender=gender\n",
    "        \n",
    "    def kanchai(self):\n",
    "        print('%s,%s岁,%s,上山去砍柴'%(self.name, self.age, self.gender))\n",
    "xiaoming=Foo('小明',10,'男')\n",
    "print(xiaoming.kanchai())"
   ]
  },
  {
   "cell_type": "code",
   "execution_count": 74,
   "metadata": {
    "collapsed": false,
    "scrolled": true
   },
   "outputs": [
    {
     "name": "stdout",
     "output_type": "stream",
     "text": [
      "小明\n",
      "10\n",
      "男\n"
     ]
    }
   ],
   "source": [
    "class likes:\n",
    "    def __init__(self,name,age,gender):\n",
    "        self.name=name\n",
    "        self.age=age\n",
    "        self.gender=gender\n",
    "    def like(self):\n",
    "        print(self.name)\n",
    "        print(self.age)\n",
    "        print(self.gender)\n",
    "xm=likes('小明','10','男')\n",
    "xm.like()"
   ]
  },
  {
   "cell_type": "markdown",
   "metadata": {
    "collapsed": true
   },
   "source": [
    "#http://python.jobbole.com/82023/\n",
    "\n",
    "练习二：游戏人生程序\n",
    " \n",
    "1、创建三个游戏人物，分别是：\n",
    " \n",
    "苍井井，女，18，初始战斗力1000\n",
    "东尼木木，男，20，初始战斗力1800\n",
    "波多多，女，19，初始战斗力2500\n",
    "\n",
    "2、游戏场景，分别：\n",
    " \n",
    "草丛战斗，消耗200战斗力\n",
    "自我修炼，增长100战斗力\n",
    "多人游戏，消耗500战斗力"
   ]
  },
  {
   "cell_type": "code",
   "execution_count": 9,
   "metadata": {
    "collapsed": false
   },
   "outputs": [
    {
     "name": "stdout",
     "output_type": "stream",
     "text": [
      "name:苍,gender:女,age:18,当前战斗力:800\n",
      "name:东尼,gender:男,age:20,当前战斗力:1900\n",
      "name:ihc,gender:female,age:19,当前战斗力:2000\n"
     ]
    }
   ],
   "source": [
    "class game:\n",
    "    def __init__(self,user_id,gender,age,pa):\n",
    "        self.user_id=user_id\n",
    "        self.gender=gender\n",
    "        self.age=age\n",
    "        self.pa=pa\n",
    "    def caocong(self):\n",
    "        '''草丛战斗，消耗200战斗力'''\n",
    "        self.pa=self.pa-200\n",
    "    def xiulian(self):\n",
    "        '''自我修炼，增长100战斗力'''\n",
    "        self.pa=self.pa+100\n",
    "    def duoren(self):\n",
    "        '''多人游戏，消耗500战斗力'''\n",
    "        self.pa=self.pa-500\n",
    "    def detail(self):\n",
    "        '''当前玩家战斗值新动态'''\n",
    "        print('name:%s,gender:%s,age:%s,当前战斗力:%s'%(self.user_id,self.gender,self.age,self.pa))\n",
    "cang=game('苍','女',18,1000)\n",
    "dong=game('东尼','男',20,1800)\n",
    "bo=game('ihc','female',19,2500)\n",
    "cang.caocong()\n",
    "dong.xiulian()\n",
    "bo.duoren()\n",
    "cang.detail()\n",
    "dong.detail()\n",
    "bo.detail()"
   ]
  },
  {
   "cell_type": "code",
   "execution_count": null,
   "metadata": {
    "collapsed": true
   },
   "outputs": [],
   "source": [
    "#继承"
   ]
  },
  {
   "cell_type": "markdown",
   "metadata": {},
   "source": [
    "动物：吃、喝\n",
    "猫：喵喵叫（猫继承动物的功能）\n",
    "狗：汪汪叫（狗继承动物的功能）"
   ]
  },
  {
   "cell_type": "code",
   "execution_count": 24,
   "metadata": {
    "collapsed": false
   },
   "outputs": [
    {
     "name": "stdout",
     "output_type": "stream",
     "text": [
      "my little cat cry ee\n",
      "my little cat eat\n",
      "my big dogs cry oo\n",
      "my big dogs drink\n"
     ]
    }
   ],
   "source": [
    "#class 父类\n",
    "class animals:\n",
    "    #def父类中的方法：\n",
    "    def eat(self):\n",
    "        #do something\n",
    "        print('%s eat'% self.name)\n",
    "    def drink(self):\n",
    "        print('%s drink'% self.name)\n",
    "#class 子类（父类）：子类包含了父类中的所有方法\n",
    "class cat(animals):\n",
    "    #def子类中的特殊方法：\n",
    "    def __init__(self,name):\n",
    "        self.name=name\n",
    "        print('%s cry ee'% self.name)\n",
    "class dog(animals):\n",
    "    def __init__(self,name):\n",
    "        self.name=name\n",
    "        print('%s cry oo'% self.name)\n",
    "#创建子类对象\n",
    "c1=cat('my little cat')\n",
    "#执行从父类中继承的方法（包含自己的特殊方法）\n",
    "c1.eat()#c1包括animals和cat自己的所有方法\n",
    "d1=dog('my big dogs')\n",
    "d1.drink()"
   ]
  },
  {
   "cell_type": "code",
   "execution_count": null,
   "metadata": {
    "collapsed": true
   },
   "outputs": [],
   "source": [
    "当类是经典类（python2）时，多继承情况下，会按照深度优先方式查找（从左往右查找，左结束至顶端再查找右）\n",
    "当类是新式类（python3）时，多继承情况下，会按照广度优先方式查找（先在上一层查找所有，结束再至上一层）\n",
    "以下问题会出现在python2中，在3中不会出现"
   ]
  },
  {
   "cell_type": "code",
   "execution_count": 27,
   "metadata": {
    "collapsed": false
   },
   "outputs": [
    {
     "name": "stdout",
     "output_type": "stream",
     "text": [
      "A.bar\n"
     ]
    }
   ],
   "source": [
    "class D:\n",
    "    def bar(self):\n",
    "        print ('D.bar')\n",
    "class C(D):\n",
    "    def bar(self):\n",
    "        print ('C.bar')\n",
    "class B(D):\n",
    "    def bar(self):\n",
    "        print ('B.bar')\n",
    "class A(B, C):\n",
    "    def bar(self):\n",
    "        print ('A.bar')\n",
    "a = A()\n",
    "# 执行bar方法时\n",
    "# 首先去A类中查找，如果A类中没有，则继续去B类中找，如果B类中么有，则继续去D类中找，如果D类中么有，则继续去C类中找，如果还是未找到，则报错\n",
    "# 所以，查找顺序：A --> B --> D --> C\n",
    "# 在上述查找bar方法的过程中，一旦找到，则寻找过程立即中断，便不会再继续找了\n",
    "a.bar()"
   ]
  },
  {
   "cell_type": "code",
   "execution_count": 29,
   "metadata": {
    "collapsed": false
   },
   "outputs": [
    {
     "name": "stdout",
     "output_type": "stream",
     "text": [
      "A.bar\n"
     ]
    }
   ],
   "source": [
    "class D(object):\n",
    "    def bar(self):\n",
    "        print ('D.bar')\n",
    "class C(D):\n",
    "    def bar(self):\n",
    "        print ('C.bar')\n",
    "class B(D):\n",
    "    def bar(self):\n",
    "        print ('B.bar')\n",
    "class A(B, C):\n",
    "    def bar(self):\n",
    "        print ('A.bar')\n",
    "a = A()\n",
    "# 执行bar方法时\n",
    "# 首先去A类中查找，如果A类中没有，则继续去B类中找，如果B类中么有，则继续去C类中找，如果C类中么有，则继续去D类中找，如果还是未找到，则报错\n",
    "# 所以，查找顺序：A --> B --> C --> D\n",
    "# 在上述查找bar方法的过程中，一旦找到，则寻找过程立即中断，便不会再继续找了\n",
    "a.bar()"
   ]
  },
  {
   "cell_type": "code",
   "execution_count": 30,
   "metadata": {
    "collapsed": true
   },
   "outputs": [],
   "source": [
    "#多态"
   ]
  },
  {
   "cell_type": "code",
   "execution_count": 37,
   "metadata": {
    "collapsed": false
   },
   "outputs": [
    {
     "name": "stdout",
     "output_type": "stream",
     "text": [
      "S1.show\n",
      "None\n",
      "S2.show\n",
      "None\n"
     ]
    }
   ],
   "source": [
    "class F1:\n",
    "    pass\n",
    "\n",
    "class S1(F1):\n",
    "\n",
    "    def show(self):\n",
    "        print ('S1.show')\n",
    "\n",
    "class S2(F1):\n",
    "\n",
    "    def show(self):\n",
    "        print ('S2.show')\n",
    "\n",
    "# 由于在Java或C#中定义函数参数时，必须指定参数的类型\n",
    "# 为了让Func函数既可以执行S1对象的show方法，又可以执行S2对象的show方法，所以，定义了一个S1和S2类的父类\n",
    "# 而实际传入的参数是：S1对象和S2对象\n",
    "\n",
    "def Func(obj):\n",
    "    \"\"\"Func函数需要接收一个F1类型或者F1子类的类型\"\"\"\n",
    "    print (obj.show())\n",
    "\n",
    "s1_obj = S1()\n",
    "Func(s1_obj) # 在Func函数中传入S1类的对象 s1_obj，执行 S1 的show方法，结果：S1.show\n",
    "\n",
    "s2_obj = S2()\n",
    "Func(s2_obj) # 在Func函数中传入Ss类的对象 ss_obj，执行 S2 的show方法，结果：S2.show"
   ]
  },
  {
   "cell_type": "code",
   "execution_count": 1,
   "metadata": {
    "collapsed": true
   },
   "outputs": [],
   "source": [
    "#http://python.jobbole.com/83747/?utm_source=blog.jobbole.com&utm_medium=relatedPosts"
   ]
  },
  {
   "cell_type": "markdown",
   "metadata": {},
   "source": [
    "* 类的成员、成员修饰符、类的特殊成员"
   ]
  },
  {
   "cell_type": "code",
   "execution_count": 2,
   "metadata": {
    "collapsed": true
   },
   "outputs": [],
   "source": [
    "#类的成员分为三大类：字段、方法和属性\n",
    "#字段：普通字段、静态字段\n",
    "#方法：普通方法、类方法、静态方法\n",
    "#属性：普通属性"
   ]
  },
  {
   "cell_type": "code",
   "execution_count": 3,
   "metadata": {
    "collapsed": true
   },
   "outputs": [],
   "source": [
    "#注：所有成员中，只有普通字段的内容保存在对象中\n",
    "#即：根据此类创建了多少对象，在内存中就有多少个普通字段。\n",
    "#而其他的成员，则都是保存在类中，即：无论对象的多少，在内存中只创建一份。"
   ]
  },
  {
   "cell_type": "markdown",
   "metadata": {},
   "source": [
    "* 字段\n",
    "* 应用场景： 通过类创建对象时，如果每个对象都具有相同的字段，那么就使用静态字段"
   ]
  },
  {
   "cell_type": "code",
   "execution_count": 5,
   "metadata": {
    "collapsed": false
   },
   "outputs": [
    {
     "name": "stdout",
     "output_type": "stream",
     "text": [
      "hebei\n",
      "henan\n"
     ]
    },
    {
     "data": {
      "text/plain": [
       "'china'"
      ]
     },
     "execution_count": 5,
     "metadata": {},
     "output_type": "execute_result"
    }
   ],
   "source": [
    "#普通与静态二者的最大区别在于在内存中保存的位置不同：普通字段属于对象，静态字段属于类\n",
    "class Province:\n",
    "    #静态字段\n",
    "    country='china'\n",
    "    def __init__(self,name):\n",
    "        #普通字段\n",
    "        self.name=name\n",
    "#直接访问普通字段\n",
    "obj=Province('hebei')\n",
    "obj2=Province('henan')\n",
    "print(obj.name)\n",
    "print(obj2.name)#普通字段在每个对象中都要保存一份\n",
    "#直接访问静态字段\n",
    "Province.country#静态字段在内存中保存一份"
   ]
  },
  {
   "cell_type": "markdown",
   "metadata": {},
   "source": [
    "* 方法\n",
    "* 方法包括：普通方法、静态方法和类方法，三种方法在内存中都归属于类，区别在于调用方式不同。"
   ]
  },
  {
   "cell_type": "code",
   "execution_count": 7,
   "metadata": {
    "collapsed": false
   },
   "outputs": [
    {
     "name": "stdout",
     "output_type": "stream",
     "text": [
      "ordinary function\n",
      "class function\n",
      "static function\n"
     ]
    }
   ],
   "source": [
    "class foo:\n",
    "    def __init__(self,name):\n",
    "        self.name=name\n",
    "    def ord_func(self):\n",
    "        '''定义普通方法，至少有一个self参数 '''\n",
    "        '''由对象调用'''\n",
    "        #print self.name\n",
    "        print('ordinary function')\n",
    "    @classmethod\n",
    "    def class_func(cls):\n",
    "        '''定义类方法，至少有一个cls参数'''\n",
    "        '''由类调用'''\n",
    "        print('class function')\n",
    "    @staticmethod\n",
    "    def static_func():\n",
    "        '''定义静态方法，无默认参数'''\n",
    "        '''由类调用'''\n",
    "        print('static function')\n",
    "\n",
    "#调用普通方法\n",
    "f=foo('foo')\n",
    "f.ord_func()\n",
    "\n",
    "#调用类方法\n",
    "foo.class_func()\n",
    "\n",
    "#调用静态方法\n",
    "foo.static_func()\n",
    "        "
   ]
  },
  {
   "cell_type": "markdown",
   "metadata": {},
   "source": [
    "* 属性"
   ]
  },
  {
   "cell_type": "code",
   "execution_count": 9,
   "metadata": {
    "collapsed": false
   },
   "outputs": [],
   "source": [
    "class Foo:\n",
    "    def func(self):\n",
    "        pass\n",
    "    #定义属性\n",
    "    @property\n",
    "    def prop(self):\n",
    "        pass\n",
    "#调用\n",
    "foo_obj=Foo()\n",
    "foo_obj.func()\n",
    "foo_obj.prop\n",
    "#调用属性"
   ]
  },
  {
   "cell_type": "code",
   "execution_count": 11,
   "metadata": {
    "collapsed": false
   },
   "outputs": [
    {
     "data": {
      "text/plain": [
       "'wupeiqi'"
      ]
     },
     "execution_count": 11,
     "metadata": {},
     "output_type": "execute_result"
    }
   ],
   "source": [
    "class goods:\n",
    "    @property\n",
    "    def price(self):\n",
    "        return 'wupeiqi'\n",
    "#调用\n",
    "obj=goods()\n",
    "result=obj.price\n",
    "result"
   ]
  },
  {
   "cell_type": "code",
   "execution_count": null,
   "metadata": {
    "collapsed": true
   },
   "outputs": [],
   "source": [
    "#由属性的定义和调用要注意一下几点：\n",
    "定义时，在普通方法的基础上添加 @property 装饰器；\n",
    "定义时，属性仅有一个self参数\n",
    "调用时，无需括号\n",
    "方法：foo_obj.func()\n",
    "属性：foo_obj.prop"
   ]
  },
  {
   "cell_type": "code",
   "execution_count": null,
   "metadata": {
    "collapsed": true
   },
   "outputs": [],
   "source": [
    "#实例：\n",
    "对于主机列表页面，每次请求不可能把数据库中的所有内容都显示到页面上，而是通过分页的功能局部显示，\n",
    "所以在向数据库中请求数据时就要显示的指定获取从第m条到第n条的所有数据（即：limit m,n），\n",
    "这个分页的功能包括：\n",
    "\n",
    "根据用户请求的当前页和总数据条数计算出 m 和 n\n",
    "根据m 和 n 去数据库中请求数据"
   ]
  },
  {
   "cell_type": "code",
   "execution_count": 13,
   "metadata": {
    "collapsed": false
   },
   "outputs": [
    {
     "data": {
      "text/plain": [
       "0"
      ]
     },
     "execution_count": 13,
     "metadata": {},
     "output_type": "execute_result"
    }
   ],
   "source": [
    "class Pager:\n",
    "    def __init__(self,current_page):\n",
    "        #用户当前请求的页码\n",
    "        self.current_page=current_page\n",
    "        #每页默认显示10条数据\n",
    "        self.per_items=10\n",
    "        \n",
    "        \n",
    "    @property\n",
    "    def start(self):\n",
    "        val=(self.current_page-1)*self.per_items\n",
    "        return val\n",
    "    @property\n",
    "    def end(self):\n",
    "        val=self.current_page*self.per_items\n",
    "        return val\n",
    "#调用\n",
    "p=Pager(1)\n",
    "p.start\n"
   ]
  },
  {
   "cell_type": "code",
   "execution_count": 10,
   "metadata": {
    "collapsed": true
   },
   "outputs": [],
   "source": [
    "#__slots__为自己的对象增加约束"
   ]
  },
  {
   "cell_type": "code",
   "execution_count": 11,
   "metadata": {
    "collapsed": true
   },
   "outputs": [],
   "source": [
    "#装饰器 @property\n",
    "#通过@property装饰器修饰的对象方法变为对象属性方式访问\n",
    "#AOP"
   ]
  },
  {
   "cell_type": "markdown",
   "metadata": {},
   "source": [
    "* 魔术方法和魔术属性"
   ]
  },
  {
   "cell_type": "code",
   "execution_count": null,
   "metadata": {
    "collapsed": true
   },
   "outputs": [],
   "source": [
    "#__doc__#保存pydoc\n",
    "#__module__#当前对象所在模块\n",
    "#__class__\n",
    "#__del__#释放一个对象调用的方法\n",
    "#__init__\n",
    "#__call__()#对象后面加括号\n",
    "#__dict__"
   ]
  }
 ],
 "metadata": {
  "kernelspec": {
   "display_name": "Python 3",
   "language": "python",
   "name": "python3"
  },
  "language_info": {
   "codemirror_mode": {
    "name": "ipython",
    "version": 3
   },
   "file_extension": ".py",
   "mimetype": "text/x-python",
   "name": "python",
   "nbconvert_exporter": "python",
   "pygments_lexer": "ipython3",
   "version": "3.6.0"
  }
 },
 "nbformat": 4,
 "nbformat_minor": 2
}
