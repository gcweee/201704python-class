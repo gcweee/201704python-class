{
 "cells": [
  {
   "cell_type": "code",
   "execution_count": 1,
   "metadata": {
    "collapsed": true,
    "deletable": true,
    "editable": true
   },
   "outputs": [],
   "source": [
    "import os\n",
    "os.chdir(r'C:\\Users\\gcwee\\Documents\\SCHOOL\\HUST\\课程\\2016年秋季学期\\python')"
   ]
  },
  {
   "cell_type": "code",
   "execution_count": 3,
   "metadata": {
    "collapsed": false,
    "deletable": true,
    "editable": true
   },
   "outputs": [
    {
     "data": {
      "text/plain": [
       "'C:\\\\Users\\\\gcwee\\\\Documents\\\\SCHOOL\\\\HUST\\\\课程\\\\2016年秋季学期\\\\python'"
      ]
     },
     "execution_count": 3,
     "metadata": {},
     "output_type": "execute_result"
    }
   ],
   "source": [
    "os.getcwd()"
   ]
  },
  {
   "cell_type": "code",
   "execution_count": 4,
   "metadata": {
    "collapsed": true,
    "deletable": true,
    "editable": true
   },
   "outputs": [],
   "source": [
    "#序列容器\n",
    "#不同类型的元素：list,tuple,and collections.deque->先进先出的队列\n",
    "#单一类型的元素：str,bytes,bytearray,memoryview,and array.array\n",
    "#可变：list\n",
    "#不可变：tuple,str and bytes"
   ]
  },
  {
   "cell_type": "code",
   "execution_count": 5,
   "metadata": {
    "collapsed": false,
    "deletable": true,
    "editable": true
   },
   "outputs": [
    {
     "data": {
      "text/plain": [
       "['__add__',\n",
       " '__class__',\n",
       " '__contains__',\n",
       " '__delattr__',\n",
       " '__delitem__',\n",
       " '__dir__',\n",
       " '__doc__',\n",
       " '__eq__',\n",
       " '__format__',\n",
       " '__ge__',\n",
       " '__getattribute__',\n",
       " '__getitem__',\n",
       " '__gt__',\n",
       " '__hash__',\n",
       " '__iadd__',\n",
       " '__imul__',\n",
       " '__init__',\n",
       " '__iter__',\n",
       " '__le__',\n",
       " '__len__',\n",
       " '__lt__',\n",
       " '__mul__',\n",
       " '__ne__',\n",
       " '__new__',\n",
       " '__reduce__',\n",
       " '__reduce_ex__',\n",
       " '__repr__',\n",
       " '__reversed__',\n",
       " '__rmul__',\n",
       " '__setattr__',\n",
       " '__setitem__',\n",
       " '__sizeof__',\n",
       " '__str__',\n",
       " '__subclasshook__',\n",
       " 'append',\n",
       " 'clear',\n",
       " 'copy',\n",
       " 'count',\n",
       " 'extend',\n",
       " 'index',\n",
       " 'insert',\n",
       " 'pop',\n",
       " 'remove',\n",
       " 'reverse',\n",
       " 'sort']"
      ]
     },
     "execution_count": 5,
     "metadata": {},
     "output_type": "execute_result"
    }
   ],
   "source": [
    "#hashable 哈希表\n",
    "#标准：A 生命周期不变，B 有__hash__();C 可以比较，__eq__()三个条件必须同时具备\n",
    "#str,bytes,numeric types\n",
    "#tuple可以，但是元素必须不可变\n",
    "l=[1,23,3]\n",
    "dir(l)"
   ]
  },
  {
   "cell_type": "code",
   "execution_count": 8,
   "metadata": {
    "collapsed": false,
    "deletable": true,
    "editable": true
   },
   "outputs": [
    {
     "data": {
      "text/plain": [
       "{'one': 1, 'three': 3, 'two': 2}"
      ]
     },
     "execution_count": 8,
     "metadata": {},
     "output_type": "execute_result"
    }
   ],
   "source": [
    "#dict基于hash的映射数据结构，key和value\n",
    "a=dict(one=1,two=2,three=3)\n",
    "a"
   ]
  },
  {
   "cell_type": "code",
   "execution_count": 10,
   "metadata": {
    "collapsed": false,
    "deletable": true,
    "editable": true
   },
   "outputs": [
    {
     "data": {
      "text/plain": [
       "{'china': 86, 'india': 91, 'indonesia': 62, 'united states': 1}"
      ]
     },
     "execution_count": 10,
     "metadata": {},
     "output_type": "execute_result"
    }
   ],
   "source": [
    "#dict comprehension\n",
    "#key与value 互换\n",
    "dial_codes=[\n",
    "    (86,'china'),\n",
    "    (91,'india'),\n",
    "    (1,'united states'),\n",
    "    (62,'indonesia')\n",
    "]\n",
    "country_code={country:code for code,country in dial_codes}\n",
    "country_code"
   ]
  },
  {
   "cell_type": "code",
   "execution_count": 11,
   "metadata": {
    "collapsed": false,
    "deletable": true,
    "editable": true
   },
   "outputs": [
    {
     "name": "stdout",
     "output_type": "stream",
     "text": [
      "three\n",
      "two\n",
      "one\n",
      "three\n",
      "two\n",
      "one\n",
      "3\n",
      "2\n",
      "1\n"
     ]
    }
   ],
   "source": [
    "for i in a:print(i)\n",
    "for j in a.keys():print(j)\n",
    "for m in a.values():print(m)"
   ]
  },
  {
   "cell_type": "code",
   "execution_count": 13,
   "metadata": {
    "collapsed": false,
    "deletable": true,
    "editable": true
   },
   "outputs": [
    {
     "data": {
      "text/plain": [
       "{'one': 1, 'three': 3, 'two': {'value': 0}}"
      ]
     },
     "execution_count": 13,
     "metadata": {},
     "output_type": "execute_result"
    }
   ],
   "source": [
    "a['two']={'value':0}\n",
    "a"
   ]
  },
  {
   "cell_type": "code",
   "execution_count": 14,
   "metadata": {
    "collapsed": true,
    "deletable": true,
    "editable": true
   },
   "outputs": [],
   "source": [
    "#named tuple\n",
    "#将dict 当做struct"
   ]
  },
  {
   "cell_type": "code",
   "execution_count": 15,
   "metadata": {
    "collapsed": true,
    "deletable": true,
    "editable": true
   },
   "outputs": [],
   "source": [
    "#set 不能有重复元素，可先构建一个List\n",
    "#s=list(l),l=set(s)\n",
    "#最大特点在于集合运算\n",
    "#set1^set2交集的补集\n",
    "#&交集 |并集"
   ]
  },
  {
   "cell_type": "code",
   "execution_count": 16,
   "metadata": {
    "collapsed": true,
    "deletable": true,
    "editable": true
   },
   "outputs": [],
   "source": [
    "#random\n",
    "import random"
   ]
  },
  {
   "cell_type": "code",
   "execution_count": 17,
   "metadata": {
    "collapsed": false,
    "deletable": true,
    "editable": true
   },
   "outputs": [
    {
     "data": {
      "text/plain": [
       "7"
      ]
     },
     "execution_count": 17,
     "metadata": {},
     "output_type": "execute_result"
    }
   ],
   "source": [
    "random.randrange(0,10)"
   ]
  },
  {
   "cell_type": "code",
   "execution_count": 18,
   "metadata": {
    "collapsed": false,
    "deletable": true,
    "editable": true
   },
   "outputs": [
    {
     "data": {
      "text/plain": [
       "0"
      ]
     },
     "execution_count": 18,
     "metadata": {},
     "output_type": "execute_result"
    }
   ],
   "source": [
    "random.randrange(0,1)"
   ]
  },
  {
   "cell_type": "code",
   "execution_count": 23,
   "metadata": {
    "collapsed": false,
    "deletable": true,
    "editable": true
   },
   "outputs": [
    {
     "data": {
      "text/plain": [
       "{0, 1, 2, 4, 5, 7, 8, 10, 12, 13, 14, 16, 18, 19, 20, 21, 24, 27}"
      ]
     },
     "execution_count": 23,
     "metadata": {},
     "output_type": "execute_result"
    }
   ],
   "source": [
    "#练习：统计一个dict的value中有多少个不重复的元素\n",
    "dict1={i:random.randrange(0,i+1)for i in range(30)}\n",
    "a=dict1.values()\n",
    "b=set(a)\n",
    "dir(b)\n",
    "b"
   ]
  },
  {
   "cell_type": "code",
   "execution_count": 31,
   "metadata": {
    "collapsed": false,
    "deletable": true,
    "editable": true
   },
   "outputs": [
    {
     "data": {
      "text/plain": [
       "dict_values([0, 0, 0, 2, 4, 2, 1, 2, 2, 8, 5, 5, 10, 1, 2, 12, 4, 7, 10, 13, 20, 8, 16, 18, 19, 21, 14, 27, 20, 24])"
      ]
     },
     "execution_count": 31,
     "metadata": {},
     "output_type": "execute_result"
    }
   ],
   "source": [
    "#练习：统计一个dict的value中有多少个重复的元素，并计算重复了多少次\n",
    "a"
   ]
  },
  {
   "cell_type": "code",
   "execution_count": 35,
   "metadata": {
    "collapsed": false,
    "deletable": true,
    "editable": true
   },
   "outputs": [
    {
     "data": {
      "text/plain": [
       "12"
      ]
     },
     "execution_count": 35,
     "metadata": {},
     "output_type": "execute_result"
    }
   ],
   "source": [
    "len(a)-len(b)"
   ]
  },
  {
   "cell_type": "code",
   "execution_count": 36,
   "metadata": {
    "collapsed": false,
    "deletable": true,
    "editable": true
   },
   "outputs": [
    {
     "data": {
      "text/plain": [
       "18"
      ]
     },
     "execution_count": 36,
     "metadata": {},
     "output_type": "execute_result"
    }
   ],
   "source": [
    "len(set(dict1.values()))#用最简单的语句"
   ]
  },
  {
   "cell_type": "code",
   "execution_count": 37,
   "metadata": {
    "collapsed": true,
    "deletable": true,
    "editable": true
   },
   "outputs": [],
   "source": [
    "##新章节 函数\n",
    "#分号的使用\n",
    "#特点:在运行的时候动态创建\n",
    "#能够赋值到一个变量\n",
    "#函数本身可以作为一个参数传递\n",
    "#函数本身可以返回一个参数值,与普通的对象是一个等级的"
   ]
  },
  {
   "cell_type": "code",
   "execution_count": 38,
   "metadata": {
    "collapsed": true,
    "deletable": true,
    "editable": true
   },
   "outputs": [],
   "source": [
    "#定义和使用 注意docstring"
   ]
  },
  {
   "cell_type": "code",
   "execution_count": 41,
   "metadata": {
    "collapsed": false,
    "deletable": true,
    "editable": true
   },
   "outputs": [
    {
     "name": "stdout",
     "output_type": "stream",
     "text": [
      "returns n!\n"
     ]
    },
    {
     "data": {
      "text/plain": [
       "function"
      ]
     },
     "execution_count": 41,
     "metadata": {},
     "output_type": "execute_result"
    }
   ],
   "source": [
    "def factorial(n):\n",
    " '''returns n!'''\n",
    " return 1 if n<2 else n*factorial(n-1)\n",
    "factorial(42)\n",
    "print(factorial.__doc__)#__DOC__本身\n",
    "type(factorial)"
   ]
  },
  {
   "cell_type": "code",
   "execution_count": 43,
   "metadata": {
    "collapsed": false,
    "deletable": true,
    "editable": true
   },
   "outputs": [
    {
     "name": "stdout",
     "output_type": "stream",
     "text": [
      "13\n",
      "42\n"
     ]
    }
   ],
   "source": [
    "#docstring是一种约定，作为函数本身的属性保存起来\n",
    "#遵循LEGB\n",
    "#L本地作用域E上一层结构中的本地域G全局作用B内置作用域\n",
    "a=42\n",
    "def foo():\n",
    "    a=13\n",
    "    print(a)\n",
    "foo()\n",
    "print(a)#对a的取舍是从外向内的"
   ]
  },
  {
   "cell_type": "code",
   "execution_count": 44,
   "metadata": {
    "collapsed": true,
    "deletable": true,
    "editable": true
   },
   "outputs": [],
   "source": [
    "#若不想用内外部的a，则使用global a\n",
    "a=13\n",
    "b=34\n",
    "def foo():\n",
    "    a=global "
   ]
  },
  {
   "cell_type": "code",
   "execution_count": 49,
   "metadata": {
    "collapsed": false,
    "deletable": true,
    "editable": true
   },
   "outputs": [
    {
     "name": "stdout",
     "output_type": "stream",
     "text": [
      "3\n",
      "0\n"
     ]
    }
   ],
   "source": [
    "i=0#全局值\n",
    "def foo():\n",
    "    i=2\n",
    "    i=i+1\n",
    "    print(i)\n",
    "foo()\n",
    "print(i)"
   ]
  },
  {
   "cell_type": "code",
   "execution_count": 50,
   "metadata": {
    "collapsed": true,
    "deletable": true,
    "editable": true
   },
   "outputs": [],
   "source": [
    "#nested\n",
    "#一个变量，从最内层的函数搜索到最外层函数"
   ]
  },
  {
   "cell_type": "code",
   "execution_count": 52,
   "metadata": {
    "collapsed": false,
    "deletable": true,
    "editable": true
   },
   "outputs": [
    {
     "data": {
      "text/plain": [
       "10"
      ]
     },
     "execution_count": 52,
     "metadata": {},
     "output_type": "execute_result"
    }
   ],
   "source": [
    "#默认函数参数\n",
    "a=10\n",
    "def foo(x=a):#此时定义时已经默认了参数的固定值，其与函数保存在了一起\n",
    "    return x \n",
    "a=5#再重新设置不会改变a的值 \n",
    "foo()"
   ]
  },
  {
   "cell_type": "code",
   "execution_count": 72,
   "metadata": {
    "collapsed": false,
    "deletable": true,
    "editable": true
   },
   "outputs": [
    {
     "name": "stdout",
     "output_type": "stream",
     "text": [
      "None\n"
     ]
    }
   ],
   "source": [
    "#默认参数如果是个数据结构，例如列表，则会变化\n",
    "def foo(x,items=[]):#与上例相比，可变,\n",
    "    items.append(x)\n",
    "    return items\n",
    "foo(1)\n",
    "foo(2)\n",
    "print(foo.__doc__)"
   ]
  },
  {
   "cell_type": "code",
   "execution_count": 57,
   "metadata": {
    "collapsed": false,
    "deletable": true,
    "editable": true
   },
   "outputs": [],
   "source": [
    "#sort\n",
    "a=[1,23,4.5,36,758,84]\n",
    "a.sort(reverse=True)"
   ]
  },
  {
   "cell_type": "code",
   "execution_count": 60,
   "metadata": {
    "collapsed": false,
    "deletable": true,
    "editable": true
   },
   "outputs": [],
   "source": [
    "def getkey(item):\n",
    "    return item[0]\n",
    "l=[[2,3],[1,4],[5,6]]\n",
    "l.sort(key=\n",
    "       getkey)"
   ]
  },
  {
   "cell_type": "code",
   "execution_count": 62,
   "metadata": {
    "collapsed": false,
    "deletable": true,
    "editable": true
   },
   "outputs": [
    {
     "name": "stdout",
     "output_type": "stream",
     "text": [
      "(1, 2)\n"
     ]
    }
   ],
   "source": [
    "#可变函数参数\n",
    "#*args构成一个tuple\n",
    "#**args构成一个字典\n",
    "def printf(*args):\n",
    "    print (args)\n",
    "printf(1,2)"
   ]
  },
  {
   "cell_type": "code",
   "execution_count": 64,
   "metadata": {
    "collapsed": false,
    "deletable": true,
    "editable": true
   },
   "outputs": [
    {
     "name": "stdout",
     "output_type": "stream",
     "text": [
      "{'var1': 4, 'var2': 5, 'var0': 1}\n"
     ]
    }
   ],
   "source": [
    "def printf(**args):\n",
    "    print(args)\n",
    "printf(var0=1,var1=4,var2=5)"
   ]
  },
  {
   "cell_type": "code",
   "execution_count": 66,
   "metadata": {
    "collapsed": false,
    "deletable": true,
    "editable": true
   },
   "outputs": [
    {
     "name": "stdout",
     "output_type": "stream",
     "text": [
      "(1,)\n",
      "{'var5': 6}\n"
     ]
    }
   ],
   "source": [
    "#二者甚至可以在一起\n",
    "def printf(*args,**kargs):\n",
    "    print(args)\n",
    "    print(kargs)\n",
    "printf(1,var5=6)"
   ]
  },
  {
   "cell_type": "code",
   "execution_count": 67,
   "metadata": {
    "collapsed": true,
    "deletable": true,
    "editable": true
   },
   "outputs": [],
   "source": [
    "#匿名函数\n",
    "#lambda关键字，但只能是表达式，不能有赋值和循环操作"
   ]
  },
  {
   "cell_type": "code",
   "execution_count": 69,
   "metadata": {
    "collapsed": false,
    "deletable": true,
    "editable": true
   },
   "outputs": [
    {
     "name": "stdout",
     "output_type": "stream",
     "text": [
      "(100,)\n",
      "('first', 'define')\n"
     ]
    }
   ],
   "source": [
    "#动态特性?\n",
    "#没有文档信息的情况下判断一个函数是否存在默认参数\n",
    "#判断默认参数的值是多少\n",
    "def request(first,define=100):\n",
    "    print (first,define)\n",
    "print (request.__defaults__)\n",
    "print(request.__code__.co_varnames)"
   ]
  },
  {
   "cell_type": "code",
   "execution_count": 172,
   "metadata": {
    "collapsed": false,
    "deletable": true,
    "editable": true
   },
   "outputs": [
    {
     "name": "stdout",
     "output_type": "stream",
     "text": [
      "0\n",
      "1\n",
      "2\n",
      "3\n",
      "4\n",
      "5\n"
     ]
    }
   ],
   "source": [
    "for i in range(6):\n",
    "    print(i)"
   ]
  },
  {
   "cell_type": "code",
   "execution_count": 284,
   "metadata": {
    "collapsed": true,
    "deletable": true,
    "editable": true
   },
   "outputs": [
    {
     "name": "stdout",
     "output_type": "stream",
     "text": [
      "i is: 1\n",
      "j is: 0\n",
      "j+1 is: 1\n",
      "for j in range 1\n",
      "i is: 2\n",
      "j is: 0\n",
      "j+1 is: 1\n",
      "for j in range 2\n",
      "i is: 2\n",
      "j is: 1\n",
      "j+1 is: 2\n",
      "for j in range 2\n",
      "i is: 3\n",
      "j is: 0\n",
      "j+1 is: 1\n",
      "for j in range 3\n",
      "i is: 3\n",
      "j is: 1\n",
      "j+1 is: 2\n",
      "for j in range 3\n",
      "i is: 3\n",
      "j is: 2\n",
      "j+1 is: 3\n",
      "for j in range 3\n",
      "j is: 2\n",
      "j+1 is: 3\n",
      "8 2\n",
      "2 8\n",
      "[4, 6, 2, 8, 3, 8]\n",
      "i is: 4\n",
      "j is: 0\n",
      "j+1 is: 1\n",
      "for j in range 4\n",
      "i is: 4\n",
      "j is: 1\n",
      "j+1 is: 2\n",
      "for j in range 4\n",
      "j is: 1\n",
      "j+1 is: 2\n",
      "6 2\n",
      "2 6\n",
      "[4, 2, 6, 8, 3, 8]\n",
      "i is: 4\n",
      "j is: 2\n",
      "j+1 is: 3\n",
      "for j in range 4\n",
      "i is: 4\n",
      "j is: 3\n",
      "j+1 is: 4\n",
      "for j in range 4\n",
      "j is: 3\n",
      "j+1 is: 4\n",
      "8 3\n",
      "3 8\n",
      "[4, 2, 6, 3, 8, 8]\n",
      "i is: 5\n",
      "j is: 0\n",
      "j+1 is: 1\n",
      "for j in range 5\n",
      "j is: 0\n",
      "j+1 is: 1\n",
      "4 2\n",
      "2 4\n",
      "[2, 4, 6, 3, 8, 8]\n",
      "i is: 5\n",
      "j is: 1\n",
      "j+1 is: 2\n",
      "for j in range 5\n",
      "i is: 5\n",
      "j is: 2\n",
      "j+1 is: 3\n",
      "for j in range 5\n",
      "j is: 2\n",
      "j+1 is: 3\n",
      "6 3\n",
      "3 6\n",
      "[2, 4, 3, 6, 8, 8]\n",
      "i is: 5\n",
      "j is: 3\n",
      "j+1 is: 4\n",
      "for j in range 5\n",
      "i is: 5\n",
      "j is: 4\n",
      "j+1 is: 5\n",
      "for j in range 5\n"
     ]
    },
    {
     "data": {
      "text/plain": [
       "'???'"
      ]
     },
     "execution_count": 284,
     "metadata": {},
     "output_type": "execute_result"
    }
   ],
   "source": [
    "#修改冒泡排序函数：\n",
    "#1定义为一个函数，跟输入数据分开\n",
    "#2增加默认参数，默认是顺序，也可以是逆序\n",
    "#3增加默认参数是否显示冒泡的过程，如果要显示，应该每一轮冒泡后指出哪个数位置是如何变化的\n",
    "nums=[4,6,8,2,3,8]\n",
    "def rank(nums):\n",
    "    for i in range(len(nums)):\n",
    "        for j in range(i):#原代码为for j in range(i)，问题在于到最后，range(len(nums))=range(0,6),but max i=5,\n",
    "            #而nums中有6个元素，故而无法遍历\n",
    "            print(r'i is:',i)\n",
    "            print(r'j is:',j)\n",
    "            print(r'j+1 is:',j+1)\n",
    "            print(r'for j in range',i)\n",
    "            if nums[j]>nums[j+1]:\n",
    "                    print(r'j is:',j)\n",
    "                    print(r'j+1 is:',j+1)\n",
    "                    print(nums[j],nums[j+1])\n",
    "                    nums[j],nums[j+1]=nums[j+1],nums[j]\n",
    "                    print(nums[j],nums[j+1])\n",
    "                    print(nums)\n",
    "rank(nums)\n",
    "'''???'''\n"
   ]
  },
  {
   "cell_type": "code",
   "execution_count": 303,
   "metadata": {
    "collapsed": false,
    "deletable": true,
    "editable": true
   },
   "outputs": [
    {
     "name": "stdout",
     "output_type": "stream",
     "text": [
      "[2, 4, 3, 6, 8, 8]\n"
     ]
    }
   ],
   "source": [
    "#修改冒泡排序函数：\n",
    "#1定义为一个函数，跟输入数据分开\n",
    "#2增加默认参数，默认是顺序，也可以是逆序\n",
    "#3增加默认参数是否显示冒泡的过程，如果要显示，应该每一轮冒泡后指出哪个数位置是如何变化的\n",
    "def rank(nums):\n",
    "    for i in range(len(nums)):\n",
    "        for j in range(i):#原代码为for j in range(i)，问题在于到最后，range(len(nums))=range(0,6),but max i=5,\n",
    "            #而nums中有6个元素，故而无法遍历\n",
    "            if nums[j]>nums[j+1]:\n",
    "                nums[j],nums[j+1]=nums[j+1],nums[j]\n",
    "print(nums)\n",
    "nums=[4,6,8,2,3,8]\n",
    "rank(nums)"
   ]
  },
  {
   "cell_type": "code",
   "execution_count": 22,
   "metadata": {
    "collapsed": false,
    "deletable": true,
    "editable": true
   },
   "outputs": [
    {
     "name": "stdout",
     "output_type": "stream",
     "text": [
      "[4, 6, 8, 2, 3, 8]\n",
      "[2, 3, 4, 6, 8, 8]\n"
     ]
    }
   ],
   "source": [
    "#修改冒泡排序函数：\n",
    "#1定义为一个函数，跟输入数据分开\n",
    "#2增加默认参数，默认是顺序，也可以是逆序\n",
    "#3增加默认参数是否显示冒泡的过程，如果要显示，应该每一轮冒泡后指出哪个数位置是如何变化的\n",
    "nums=[4,6,8,2,3,8]\n",
    "def bubble1(nums):\n",
    "    for i in range(len(nums)):\n",
    "        for j in range(len(nums)-i-1):#注意此处的range(len(nums)-i-1)\n",
    "            if nums[j]>nums[j+1]:\n",
    "                nums[j],nums[j+1]=nums[j+1],nums[j]\n",
    "print(nums)\n",
    "bubble1(nums)\n",
    "print(nums)"
   ]
  },
  {
   "cell_type": "code",
   "execution_count": 143,
   "metadata": {
    "collapsed": false,
    "deletable": true,
    "editable": true
   },
   "outputs": [
    {
     "name": "stdout",
     "output_type": "stream",
     "text": [
      "1\n",
      "2\n",
      "1\n",
      "2\n"
     ]
    }
   ],
   "source": [
    "#print函数\n",
    "print(1);print(2)\n",
    "print(1,);print(2)"
   ]
  },
  {
   "cell_type": "code",
   "execution_count": 145,
   "metadata": {
    "collapsed": false,
    "deletable": true,
    "editable": true
   },
   "outputs": [
    {
     "name": "stdout",
     "output_type": "stream",
     "text": [
      " 99 0.376\n"
     ]
    }
   ],
   "source": [
    "year=99\n",
    "principal=.3759279\n",
    "print(\"%3d %.3f\"%(year,principal))"
   ]
  },
  {
   "cell_type": "code",
   "execution_count": 147,
   "metadata": {
    "collapsed": false,
    "deletable": true,
    "editable": true
   },
   "outputs": [
    {
     "name": "stdout",
     "output_type": "stream",
     "text": [
      "form:1 to:2\n"
     ]
    }
   ],
   "source": [
    "#format\n",
    "print('form:{} to:{}'.format(1,2))"
   ]
  },
  {
   "cell_type": "code",
   "execution_count": 151,
   "metadata": {
    "collapsed": false,
    "deletable": true,
    "editable": true
   },
   "outputs": [
    {
     "name": "stdout",
     "output_type": "stream",
     "text": [
      "  8 0.4324\n"
     ]
    }
   ],
   "source": [
    "print('{0:3d} {1:.4f}'.format(8,.4324))"
   ]
  },
  {
   "cell_type": "code",
   "execution_count": null,
   "metadata": {
    "collapsed": true,
    "deletable": true,
    "editable": true
   },
   "outputs": [],
   "source": [
    "#打印一个数组\n",
    "#!s--->calls str()\n",
    "#coord=[2.3,4,3]\n",
    "#print()"
   ]
  },
  {
   "cell_type": "code",
   "execution_count": null,
   "metadata": {
    "collapsed": false,
    "deletable": true,
    "editable": true
   },
   "outputs": [],
   "source": [
    "#访问文件\n",
    "#read(),readline()当到达文件结尾的时候，返回空串\n",
    "f=open('lines.txt')\n",
    "for line in f:\n",
    "    print(line)"
   ]
  },
  {
   "cell_type": "code",
   "execution_count": null,
   "metadata": {
    "collapsed": true,
    "deletable": true,
    "editable": true
   },
   "outputs": [],
   "source": []
  }
 ],
 "metadata": {
  "anaconda-cloud": {},
  "kernelspec": {
   "display_name": "Python [conda root]",
   "language": "python",
   "name": "conda-root-py"
  },
  "language_info": {
   "codemirror_mode": {
    "name": "ipython",
    "version": 3
   },
   "file_extension": ".py",
   "mimetype": "text/x-python",
   "name": "python",
   "nbconvert_exporter": "python",
   "pygments_lexer": "ipython3",
   "version": "3.5.2"
  }
 },
 "nbformat": 4,
 "nbformat_minor": 1
}
